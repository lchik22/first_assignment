{
 "cells": [
  {
   "cell_type": "markdown",
   "metadata": {},
   "source": [
    "Connect to MLFlow"
   ]
  },
  {
   "cell_type": "code",
   "execution_count": 1,
   "metadata": {},
   "outputs": [
    {
     "data": {
      "text/html": [
       "<pre style=\"white-space:pre;overflow-x:auto;line-height:normal;font-family:Menlo,'DejaVu Sans Mono',consolas,'Courier New',monospace\">Accessing as lchik22\n",
       "</pre>\n"
      ],
      "text/plain": [
       "Accessing as lchik22\n"
      ]
     },
     "metadata": {},
     "output_type": "display_data"
    },
    {
     "data": {
      "text/html": [
       "<pre style=\"white-space:pre;overflow-x:auto;line-height:normal;font-family:Menlo,'DejaVu Sans Mono',consolas,'Courier New',monospace\">Initialized MLflow to track repo <span style=\"color: #008000; text-decoration-color: #008000\">\"lchik22/first_assignment\"</span>\n",
       "</pre>\n"
      ],
      "text/plain": [
       "Initialized MLflow to track repo \u001b[32m\"lchik22/first_assignment\"\u001b[0m\n"
      ]
     },
     "metadata": {},
     "output_type": "display_data"
    },
    {
     "data": {
      "text/html": [
       "<pre style=\"white-space:pre;overflow-x:auto;line-height:normal;font-family:Menlo,'DejaVu Sans Mono',consolas,'Courier New',monospace\">Repository lchik22/first_assignment initialized!\n",
       "</pre>\n"
      ],
      "text/plain": [
       "Repository lchik22/first_assignment initialized!\n"
      ]
     },
     "metadata": {},
     "output_type": "display_data"
    }
   ],
   "source": [
    "import dagshub\n",
    "import mlflow\n",
    "from mlflow.models.signature import infer_signature\n",
    "\n",
    "dagshub.init(repo_owner='lchik22', repo_name='first_assignment', mlflow=True)\n",
    "mlflow.set_tracking_uri('https://dagshub.com/lchik22/first_assignment.mlflow')\n",
    "\n",
    "mlflow.sklearn.autolog(\n",
    "    log_input_examples=True,\n",
    "    log_model_signatures=True,\n",
    "    log_models=True\n",
    ")"
   ]
  },
  {
   "cell_type": "markdown",
   "metadata": {},
   "source": [
    "Import Data"
   ]
  },
  {
   "cell_type": "code",
   "execution_count": 2,
   "metadata": {},
   "outputs": [],
   "source": [
    "import numpy as np # linear algebra\n",
    "import pandas as pd # data processing, CSV file I/O (e.g. pd.read_csv)\n",
    "from sklearn.base import BaseEstimator, TransformerMixin\n",
    "from sklearn.pipeline import Pipeline\n",
    "from sklearn.linear_model import LinearRegression, Ridge\n",
    "from sklearn.metrics import mean_squared_error, mean_absolute_error, r2_score\n",
    "from sklearn.feature_selection import RFE\n",
    "from sklearn.model_selection import KFold, train_test_split, GridSearchCV, cross_val_score\n",
    "\n",
    "pd.set_option('display.max_columns', None)  \n",
    "pd.set_option('display.width', None)        \n",
    "pd.set_option('display.expand_frame_repr', False)\n",
    "\n",
    "df = pd.read_csv('./data/train.csv')"
   ]
  },
  {
   "cell_type": "code",
   "execution_count": 3,
   "metadata": {},
   "outputs": [],
   "source": [
    "X = df.drop(columns=[\"SalePrice\"])\n",
    "y = df[\"SalePrice\"]"
   ]
  },
  {
   "cell_type": "markdown",
   "metadata": {},
   "source": [
    "Cleaning"
   ]
  },
  {
   "cell_type": "code",
   "execution_count": 4,
   "metadata": {},
   "outputs": [],
   "source": [
    "class DataCleaner(BaseEstimator, TransformerMixin):\n",
    "    def __init__(self, threshold=0.8, drop_duplicates=True, numerical_fillna_strategy='median'):\n",
    "        self.drop_duplicates = drop_duplicates\n",
    "        self.numerical_fillna_strategy = numerical_fillna_strategy\n",
    "        self.threshold = threshold\n",
    "        \n",
    "    def fit(self, X, y=None):\n",
    "        self.removed_features = X.isna().mean()\n",
    "        self.removed_features = self.removed_features[self.removed_features > self.threshold].index.tolist()\n",
    "        self.num_features = [col for col in X.select_dtypes(include='number').columns if col not in self.removed_features]\n",
    "        if self.numerical_fillna_strategy == 'median':\n",
    "            self.fill_values_ = X[self.num_features].median()\n",
    "        elif self.numerical_fillna_strategy == 'mean':\n",
    "            self.fill_values_ = X[self.num_features].mean()\n",
    "        return self\n",
    "    \n",
    "    def transform(self, X):\n",
    "        X = X.copy()\n",
    "\n",
    "        X = X.drop(columns=self.removed_features)\n",
    "\n",
    "        if self.numerical_fillna_strategy in ['median', 'mean']:\n",
    "            X[self.num_features] = X[self.num_features].fillna(self.fill_values_)\n",
    "        \n",
    "        if self.drop_duplicates:\n",
    "            X = X.drop_duplicates()\n",
    "        \n",
    "        return X"
   ]
  },
  {
   "cell_type": "markdown",
   "metadata": {},
   "source": [
    "Feature Engineering"
   ]
  },
  {
   "cell_type": "code",
   "execution_count": 5,
   "metadata": {},
   "outputs": [],
   "source": [
    "from sklearn.preprocessing import OneHotEncoder, StandardScaler\n",
    "from sklearn.impute import SimpleImputer\n",
    "from scipy import sparse\n",
    "\n",
    "class FeatureEngineer(BaseEstimator, TransformerMixin):\n",
    "    def __init__(self, cat_features=None, scale_numeric=True, log_transform_skewed=True):\n",
    "        self.cat_features = cat_features\n",
    "        self.scale_numeric = scale_numeric\n",
    "        self.log_transform_skewed = log_transform_skewed\n",
    "\n",
    "    def fit(self, X, y=None):\n",
    "        X = X.copy()\n",
    "\n",
    "        if self.cat_features is None:\n",
    "            self.cat_features = X.select_dtypes(include=['object', 'category']).columns.tolist()\n",
    "        \n",
    "        self.num_features_ = [col for col in X.columns if col not in self.cat_features]\n",
    "\n",
    "        self.cat_imputer_ = SimpleImputer(strategy='most_frequent')\n",
    "        self.cat_imputer_.fit(X[self.cat_features])\n",
    "        \n",
    "        if self.log_transform_skewed:\n",
    "            skewness = X[self.num_features_].skew().abs()\n",
    "            self.skewed_cols_ = skewness[skewness > 1].index.tolist()\n",
    "        else:\n",
    "            self.skewed_cols_ = []\n",
    "\n",
    "        if self.scale_numeric:\n",
    "            X_num = X[self.num_features_].copy()\n",
    "            if self.skewed_cols_:\n",
    "                X_num[self.skewed_cols_] = np.log1p(X_num[self.skewed_cols_])\n",
    "            self.scaler_ = StandardScaler()\n",
    "            self.scaler_.fit(X_num)\n",
    "\n",
    "        X_cat = self.cat_imputer_.transform(X[self.cat_features])\n",
    "        self.encoder_ = OneHotEncoder(handle_unknown='ignore', sparse_output=True)\n",
    "        self.encoder_.fit(X_cat)\n",
    "\n",
    "        self.encoded_cat_features_ = self.encoder_.get_feature_names_out(self.cat_features)\n",
    "\n",
    "        return self\n",
    "\n",
    "    def transform(self, X):\n",
    "        X = X.copy()\n",
    "        \n",
    "        X_cat = self.cat_imputer_.transform(X[self.cat_features])\n",
    "        X_cat_encoded = self.encoder_.transform(X_cat)\n",
    "        \n",
    "        X_num = X[self.num_features_].copy()\n",
    "        \n",
    "        if self.skewed_cols_:\n",
    "            for col in self.skewed_cols_:\n",
    "                if col in X_num.columns:\n",
    "                    X_num[col] = np.log1p(X_num[col])\n",
    "\n",
    "        if self.scale_numeric:\n",
    "            X_num_scaled = self.scaler_.transform(X_num)\n",
    "        else:\n",
    "            X_num_scaled = X_num.values\n",
    "        \n",
    "        X_transformed = sparse.hstack([X_cat_encoded, sparse.csr_matrix(X_num_scaled)]).tocsr()\n",
    "\n",
    "        all_feature_names = list(self.encoded_cat_features_) + list(self.num_features_)\n",
    "        return pd.DataFrame.sparse.from_spmatrix(X_transformed, columns=all_feature_names)"
   ]
  },
  {
   "cell_type": "markdown",
   "metadata": {},
   "source": [
    "Feature Selection"
   ]
  },
  {
   "cell_type": "code",
   "execution_count": 6,
   "metadata": {},
   "outputs": [],
   "source": [
    "class CorrelationFilter(BaseEstimator, TransformerMixin):\n",
    "    def __init__(self, threshold=0.9):\n",
    "        self.threshold = threshold\n",
    "        self.to_drop = None\n",
    "\n",
    "    def fit(self, X, y=None):\n",
    "        corr_matrix = pd.DataFrame(X).corr().abs()\n",
    "        upper = corr_matrix.where(np.triu(np.ones(corr_matrix.shape), k=1).astype(bool))\n",
    "        self.to_drop = [column for column in upper.columns if any(upper[column] > self.threshold)]\n",
    "        return self\n",
    "\n",
    "    def transform(self, X):\n",
    "        if not isinstance(X, pd.DataFrame):\n",
    "            X = pd.DataFrame(X)\n",
    "        return pd.DataFrame(X).drop(columns=self.to_drop, errors=\"ignore\")"
   ]
  },
  {
   "cell_type": "markdown",
   "metadata": {},
   "source": [
    "Training"
   ]
  },
  {
   "cell_type": "code",
   "execution_count": 7,
   "metadata": {},
   "outputs": [],
   "source": [
    "trainer = Pipeline([\n",
    "        ('cleaning', DataCleaner()),\n",
    "        ('feature_engineering', FeatureEngineer()),\n",
    "        ('corr_filter',CorrelationFilter(threshold=0.75)),\n",
    "        ('rfe', RFE(estimator=LinearRegression())),\n",
    "        ('model', LinearRegression())\n",
    "    ])"
   ]
  },
  {
   "cell_type": "code",
   "execution_count": 8,
   "metadata": {},
   "outputs": [],
   "source": [
    "param_grid = {\n",
    "    'cleaning__threshold': [0.05, 0.4, 0.8],\n",
    "    'cleaning__numerical_fillna_strategy': ['mean', 'median'],\n",
    "    'corr_filter__threshold': [0.7, 0.8, 0.9],  \n",
    "    'rfe__n_features_to_select': [0.3, 0.7, 10]\n",
    "}"
   ]
  },
  {
   "cell_type": "code",
   "execution_count": 9,
   "metadata": {},
   "outputs": [
    {
     "name": "stderr",
     "output_type": "stream",
     "text": [
      "2025/04/10 16:27:04 WARNING mlflow.utils.autologging_utils: MLflow autologging encountered a warning: \"c:\\Users\\Lasha\\OneDrive\\Desktop\\nacho\\.venv\\Lib\\site-packages\\mlflow\\types\\utils.py:452: UserWarning: Hint: Inferred schema contains integer column(s). Integer columns in Python cannot represent missing values. If your input data contains missing values at inference time, it will be encoded as floats and will cause a schema enforcement error. The best way to avoid this problem is to infer the model schema based on a realistic data sample (training dataset) that includes missing values. Alternatively, you can declare integer columns as doubles (float64) whenever these columns may have missing values. See `Handling Integers With Missing Values <https://www.mlflow.org/docs/latest/models.html#handling-integers-with-missing-values>`_ for more details.\"\n"
     ]
    },
    {
     "name": "stdout",
     "output_type": "stream",
     "text": [
      "Fitting 5 folds for each of 54 candidates, totalling 270 fits\n"
     ]
    },
    {
     "name": "stderr",
     "output_type": "stream",
     "text": [
      "2025/04/10 16:35:28 WARNING mlflow.utils.autologging_utils: MLflow autologging encountered a warning: \"c:\\Users\\Lasha\\OneDrive\\Desktop\\nacho\\.venv\\Lib\\site-packages\\mlflow\\types\\utils.py:452: UserWarning: Hint: Inferred schema contains integer column(s). Integer columns in Python cannot represent missing values. If your input data contains missing values at inference time, it will be encoded as floats and will cause a schema enforcement error. The best way to avoid this problem is to infer the model schema based on a realistic data sample (training dataset) that includes missing values. Alternatively, you can declare integer columns as doubles (float64) whenever these columns may have missing values. See `Handling Integers With Missing Values <https://www.mlflow.org/docs/latest/models.html#handling-integers-with-missing-values>`_ for more details.\"\n",
      "2025/04/10 16:35:47 INFO mlflow.sklearn.utils: Logging the 5 best runs, 49 runs will be omitted.\n"
     ]
    },
    {
     "name": "stdout",
     "output_type": "stream",
     "text": [
      "🏃 View run treasured-deer-350 at: https://dagshub.com/lchik22/first_assignment.mlflow/#/experiments/1/runs/f8085fbfa83543f7b623960e120ad9ba\n",
      "🧪 View experiment at: https://dagshub.com/lchik22/first_assignment.mlflow/#/experiments/1\n",
      "🏃 View run hilarious-shrimp-441 at: https://dagshub.com/lchik22/first_assignment.mlflow/#/experiments/1/runs/c50d0c25ad51444183cb28200d6ba9c8\n",
      "🧪 View experiment at: https://dagshub.com/lchik22/first_assignment.mlflow/#/experiments/1\n",
      "🏃 View run bustling-frog-299 at: https://dagshub.com/lchik22/first_assignment.mlflow/#/experiments/1/runs/6703111fefa344bc936c8823b1ca18eb\n",
      "🧪 View experiment at: https://dagshub.com/lchik22/first_assignment.mlflow/#/experiments/1\n",
      "🏃 View run chill-sponge-133 at: https://dagshub.com/lchik22/first_assignment.mlflow/#/experiments/1/runs/44b66813fc9c4f7790021b1ff40da67a\n",
      "🧪 View experiment at: https://dagshub.com/lchik22/first_assignment.mlflow/#/experiments/1\n",
      "🏃 View run unequaled-elk-131 at: https://dagshub.com/lchik22/first_assignment.mlflow/#/experiments/1/runs/6911f44e1f9449f9b3fa09f1375a2d97\n",
      "🧪 View experiment at: https://dagshub.com/lchik22/first_assignment.mlflow/#/experiments/1\n"
     ]
    },
    {
     "name": "stderr",
     "output_type": "stream",
     "text": [
      "c:\\Users\\Lasha\\OneDrive\\Desktop\\nacho\\.venv\\Lib\\site-packages\\mlflow\\types\\utils.py:452: UserWarning: Hint: Inferred schema contains integer column(s). Integer columns in Python cannot represent missing values. If your input data contains missing values at inference time, it will be encoded as floats and will cause a schema enforcement error. The best way to avoid this problem is to infer the model schema based on a realistic data sample (training dataset) that includes missing values. Alternatively, you can declare integer columns as doubles (float64) whenever these columns may have missing values. See `Handling Integers With Missing Values <https://www.mlflow.org/docs/latest/models.html#handling-integers-with-missing-values>`_ for more details.\n",
      "  warnings.warn(\n",
      "Registered model 'HousePricePredictor_LinearRegression' already exists. Creating a new version of this model...\n",
      "2025/04/10 16:36:37 INFO mlflow.store.model_registry.abstract_store: Waiting up to 300 seconds for model version to finish creation. Model name: HousePricePredictor_LinearRegression, version 6\n",
      "Created version '6' of model 'HousePricePredictor_LinearRegression'.\n"
     ]
    },
    {
     "name": "stdout",
     "output_type": "stream",
     "text": [
      "Best parameters: {'cleaning__numerical_fillna_strategy': 'mean', 'cleaning__threshold': 0.05, 'corr_filter__threshold': 0.7, 'rfe__n_features_to_select': 0.7}\n",
      "RMSE: 33854.6252\n",
      "MAE: 19357.6380\n",
      "R²: 0.8323\n",
      "🏃 View run LinearRegression_Pro at: https://dagshub.com/lchik22/first_assignment.mlflow/#/experiments/1/runs/55a0999668a84af494c7a7b5b4aa0cbd\n",
      "🧪 View experiment at: https://dagshub.com/lchik22/first_assignment.mlflow/#/experiments/1\n"
     ]
    }
   ],
   "source": [
    "mlflow.set_experiment(\"House Price Prediction | Linear Regression\")\n",
    "\n",
    "with mlflow.start_run(run_name=\"LinearRegression_Pro\") as run:\n",
    "    mlflow.log_param(\"cv_folds\", 5)\n",
    "    mlflow.log_param(\"grid_search_strategy\", \"exhaustive\")\n",
    "    \n",
    "    grid_search = GridSearchCV(\n",
    "        estimator=trainer,\n",
    "        param_grid=param_grid,\n",
    "        cv=KFold(n_splits=5, shuffle=True, random_state=42),\n",
    "        scoring='neg_mean_squared_error',  \n",
    "        refit=True, \n",
    "        n_jobs=-1,   \n",
    "        verbose=2,\n",
    "        return_train_score=True\n",
    "    )\n",
    "    \n",
    "    grid_search.fit(X, y)\n",
    "    \n",
    "    best_params = grid_search.best_params_\n",
    "    for param, value in best_params.items():\n",
    "        mlflow.log_param(f\"best_{param}\", value)\n",
    "\n",
    "    cv_neg_mse = grid_search.best_score_\n",
    "    cv_rmse = np.sqrt(-cv_neg_mse)\n",
    "    \n",
    "    best_model = grid_search.best_estimator_\n",
    "    cv_mae = -np.mean(cross_val_score(best_model, X, y, \n",
    "                      cv=5, scoring='neg_mean_absolute_error'))\n",
    "    cv_r2 = np.mean(cross_val_score(best_model, X, y, \n",
    "                    cv=5, scoring='r2'))\n",
    "    \n",
    "    mlflow.log_metric(\"cv_rmse\", cv_rmse)\n",
    "    mlflow.log_metric(\"cv_mae\", cv_mae)\n",
    "    mlflow.log_metric(\"cv_r2\", cv_r2)\n",
    "    \n",
    "    signature = infer_signature(X, y)\n",
    "    mlflow.sklearn.log_model(\n",
    "        sk_model=best_model,\n",
    "        artifact_path=\"house_price_model_linear_regression\",\n",
    "        signature=signature,\n",
    "        registered_model_name=\"HousePricePredictor_LinearRegression\"\n",
    "    )\n",
    "    \n",
    "    results = pd.DataFrame(grid_search.cv_results_)\n",
    "    \n",
    "    results.to_csv(\"grid_search_results.csv\", index=False)\n",
    "    mlflow.log_artifact(\"grid_search_results.csv\")\n",
    "    \n",
    "    print(f\"Best parameters: {best_params}\")\n",
    "    print(f\"RMSE: {cv_rmse:.4f}\")\n",
    "    print(f\"MAE: {cv_mae:.4f}\")\n",
    "    print(f\"R²: {cv_r2:.4f}\")"
   ]
  }
 ],
 "metadata": {
  "kernelspec": {
   "display_name": ".venv",
   "language": "python",
   "name": "python3"
  },
  "language_info": {
   "codemirror_mode": {
    "name": "ipython",
    "version": 3
   },
   "file_extension": ".py",
   "mimetype": "text/x-python",
   "name": "python",
   "nbconvert_exporter": "python",
   "pygments_lexer": "ipython3",
   "version": "3.12.10"
  }
 },
 "nbformat": 4,
 "nbformat_minor": 2
}
